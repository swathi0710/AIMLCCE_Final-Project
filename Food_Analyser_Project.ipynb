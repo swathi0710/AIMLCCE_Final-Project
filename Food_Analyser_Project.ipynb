{
  "nbformat": 4,
  "nbformat_minor": 0,
  "metadata": {
    "colab": {
      "provenance": []
    },
    "kernelspec": {
      "name": "python3",
      "display_name": "Python 3"
    },
    "language_info": {
      "name": "python"
    }
  },
  "cells": [
    {
      "cell_type": "code",
      "execution_count": 5,
      "metadata": {
        "id": "M7n8i2wmbV_X"
      },
      "outputs": [],
      "source": [
        "import pandas as pd\n",
        "import numpy as np"
      ]
    },
    {
      "cell_type": "code",
      "source": [
        "food_data= pd.read_csv(\"/content/drive/MyDrive/Classified RawData - RawData.csv\")\n",
        "food_data.describe()"
      ],
      "metadata": {
        "colab": {
          "base_uri": "https://localhost:8080/",
          "height": 301
        },
        "id": "-3Guohzebh-v",
        "outputId": "7da13ad4-250f-42c9-aaa5-6c347dfe0abc"
      },
      "execution_count": 6,
      "outputs": [
        {
          "output_type": "execute_result",
          "data": {
            "text/plain": [
              "              Class\n",
              "count  10000.000000\n",
              "mean       3.130500\n",
              "std        1.435993\n",
              "min        1.000000\n",
              "25%        2.000000\n",
              "50%        3.000000\n",
              "75%        5.000000\n",
              "max        5.000000"
            ],
            "text/html": [
              "\n",
              "  <div id=\"df-352dc14e-7952-488f-a399-fe170eef0eb5\">\n",
              "    <div class=\"colab-df-container\">\n",
              "      <div>\n",
              "<style scoped>\n",
              "    .dataframe tbody tr th:only-of-type {\n",
              "        vertical-align: middle;\n",
              "    }\n",
              "\n",
              "    .dataframe tbody tr th {\n",
              "        vertical-align: top;\n",
              "    }\n",
              "\n",
              "    .dataframe thead th {\n",
              "        text-align: right;\n",
              "    }\n",
              "</style>\n",
              "<table border=\"1\" class=\"dataframe\">\n",
              "  <thead>\n",
              "    <tr style=\"text-align: right;\">\n",
              "      <th></th>\n",
              "      <th>Class</th>\n",
              "    </tr>\n",
              "  </thead>\n",
              "  <tbody>\n",
              "    <tr>\n",
              "      <th>count</th>\n",
              "      <td>10000.000000</td>\n",
              "    </tr>\n",
              "    <tr>\n",
              "      <th>mean</th>\n",
              "      <td>3.130500</td>\n",
              "    </tr>\n",
              "    <tr>\n",
              "      <th>std</th>\n",
              "      <td>1.435993</td>\n",
              "    </tr>\n",
              "    <tr>\n",
              "      <th>min</th>\n",
              "      <td>1.000000</td>\n",
              "    </tr>\n",
              "    <tr>\n",
              "      <th>25%</th>\n",
              "      <td>2.000000</td>\n",
              "    </tr>\n",
              "    <tr>\n",
              "      <th>50%</th>\n",
              "      <td>3.000000</td>\n",
              "    </tr>\n",
              "    <tr>\n",
              "      <th>75%</th>\n",
              "      <td>5.000000</td>\n",
              "    </tr>\n",
              "    <tr>\n",
              "      <th>max</th>\n",
              "      <td>5.000000</td>\n",
              "    </tr>\n",
              "  </tbody>\n",
              "</table>\n",
              "</div>\n",
              "      <button class=\"colab-df-convert\" onclick=\"convertToInteractive('df-352dc14e-7952-488f-a399-fe170eef0eb5')\"\n",
              "              title=\"Convert this dataframe to an interactive table.\"\n",
              "              style=\"display:none;\">\n",
              "        \n",
              "  <svg xmlns=\"http://www.w3.org/2000/svg\" height=\"24px\"viewBox=\"0 0 24 24\"\n",
              "       width=\"24px\">\n",
              "    <path d=\"M0 0h24v24H0V0z\" fill=\"none\"/>\n",
              "    <path d=\"M18.56 5.44l.94 2.06.94-2.06 2.06-.94-2.06-.94-.94-2.06-.94 2.06-2.06.94zm-11 1L8.5 8.5l.94-2.06 2.06-.94-2.06-.94L8.5 2.5l-.94 2.06-2.06.94zm10 10l.94 2.06.94-2.06 2.06-.94-2.06-.94-.94-2.06-.94 2.06-2.06.94z\"/><path d=\"M17.41 7.96l-1.37-1.37c-.4-.4-.92-.59-1.43-.59-.52 0-1.04.2-1.43.59L10.3 9.45l-7.72 7.72c-.78.78-.78 2.05 0 2.83L4 21.41c.39.39.9.59 1.41.59.51 0 1.02-.2 1.41-.59l7.78-7.78 2.81-2.81c.8-.78.8-2.07 0-2.86zM5.41 20L4 18.59l7.72-7.72 1.47 1.35L5.41 20z\"/>\n",
              "  </svg>\n",
              "      </button>\n",
              "      \n",
              "  <style>\n",
              "    .colab-df-container {\n",
              "      display:flex;\n",
              "      flex-wrap:wrap;\n",
              "      gap: 12px;\n",
              "    }\n",
              "\n",
              "    .colab-df-convert {\n",
              "      background-color: #E8F0FE;\n",
              "      border: none;\n",
              "      border-radius: 50%;\n",
              "      cursor: pointer;\n",
              "      display: none;\n",
              "      fill: #1967D2;\n",
              "      height: 32px;\n",
              "      padding: 0 0 0 0;\n",
              "      width: 32px;\n",
              "    }\n",
              "\n",
              "    .colab-df-convert:hover {\n",
              "      background-color: #E2EBFA;\n",
              "      box-shadow: 0px 1px 2px rgba(60, 64, 67, 0.3), 0px 1px 3px 1px rgba(60, 64, 67, 0.15);\n",
              "      fill: #174EA6;\n",
              "    }\n",
              "\n",
              "    [theme=dark] .colab-df-convert {\n",
              "      background-color: #3B4455;\n",
              "      fill: #D2E3FC;\n",
              "    }\n",
              "\n",
              "    [theme=dark] .colab-df-convert:hover {\n",
              "      background-color: #434B5C;\n",
              "      box-shadow: 0px 1px 3px 1px rgba(0, 0, 0, 0.15);\n",
              "      filter: drop-shadow(0px 1px 2px rgba(0, 0, 0, 0.3));\n",
              "      fill: #FFFFFF;\n",
              "    }\n",
              "  </style>\n",
              "\n",
              "      <script>\n",
              "        const buttonEl =\n",
              "          document.querySelector('#df-352dc14e-7952-488f-a399-fe170eef0eb5 button.colab-df-convert');\n",
              "        buttonEl.style.display =\n",
              "          google.colab.kernel.accessAllowed ? 'block' : 'none';\n",
              "\n",
              "        async function convertToInteractive(key) {\n",
              "          const element = document.querySelector('#df-352dc14e-7952-488f-a399-fe170eef0eb5');\n",
              "          const dataTable =\n",
              "            await google.colab.kernel.invokeFunction('convertToInteractive',\n",
              "                                                     [key], {});\n",
              "          if (!dataTable) return;\n",
              "\n",
              "          const docLinkHtml = 'Like what you see? Visit the ' +\n",
              "            '<a target=\"_blank\" href=https://colab.research.google.com/notebooks/data_table.ipynb>data table notebook</a>'\n",
              "            + ' to learn more about interactive tables.';\n",
              "          element.innerHTML = '';\n",
              "          dataTable['output_type'] = 'display_data';\n",
              "          await google.colab.output.renderOutput(dataTable, element);\n",
              "          const docLink = document.createElement('div');\n",
              "          docLink.innerHTML = docLinkHtml;\n",
              "          element.appendChild(docLink);\n",
              "        }\n",
              "      </script>\n",
              "    </div>\n",
              "  </div>\n",
              "  "
            ]
          },
          "metadata": {},
          "execution_count": 6
        }
      ]
    },
    {
      "cell_type": "code",
      "source": [
        "food_data.drop(['asins', 'dateAdded','dateUpdated','ean','manufacturerNumber','sizes','upc'], axis=1, inplace=True)"
      ],
      "metadata": {
        "id": "u6qdP0VohKLE"
      },
      "execution_count": 7,
      "outputs": []
    },
    {
      "cell_type": "code",
      "source": [
        "color=[]\n",
        "keys=[\"color\",\"colour\",\"yellow\",\"blue\",\"green\",\"red\"]\n",
        "for item in food_data[\"features.value\"]:\n",
        "  if item and type(item)==str:\n",
        "    color.append(any([(key in item.lower()) for key in keys ]))\n",
        "  else:\n",
        "    color.append(False)\n",
        "\n",
        "\n"
      ],
      "metadata": {
        "id": "wKCPaausc7uH"
      },
      "execution_count": 8,
      "outputs": []
    },
    {
      "cell_type": "code",
      "source": [
        "print(len(color),len(food_data[\"features.value\"]))\n",
        "print(sum(color))"
      ],
      "metadata": {
        "id": "xBFCiscIfL_V",
        "colab": {
          "base_uri": "https://localhost:8080/"
        },
        "outputId": "51043ff9-91cb-4787-d185-99f0bf1c86fc"
      },
      "execution_count": 9,
      "outputs": [
        {
          "output_type": "stream",
          "name": "stdout",
          "text": [
            "10000 10000\n",
            "4865\n"
          ]
        }
      ]
    },
    {
      "cell_type": "code",
      "source": [
        "food_data[\"Artificial_colour\"]=color\n",
        "food_data.head()"
      ],
      "metadata": {
        "colab": {
          "base_uri": "https://localhost:8080/",
          "height": 320
        },
        "id": "dhdzhddIgV9G",
        "outputId": "e90fa34e-b493-4805-a85c-061c08ff3fe6"
      },
      "execution_count": 10,
      "outputs": [
        {
          "output_type": "execute_result",
          "data": {
            "text/plain": [
              "                     id          brand                           categories  \\\n",
              "0  AVphBRHOilAPnD_x0OrE  Simon Fischer  Grocery & Gourmet Food,Food,Grocery   \n",
              "1  AVpfNFy1LJeJML434ma2      McCormick  Grocery & Gourmet Food,Food,Grocery   \n",
              "2  AVpgT49VLJeJML43MJEz     Jolly Time       Grocery & Gourmet Food,Grocery   \n",
              "3  AVphYgnzLJeJML43aPp2          Ziyad       Grocery & Gourmet Food,grocery   \n",
              "4  AVpiS0bOLJeJML43kRsh    Fla-Vor-Ice       Grocery & Gourmet Food,grocery   \n",
              "\n",
              "  features.key                                     features.value  \\\n",
              "0  Ingredients        Dried Prunes,Water,Corn Syrup,Sugar,Pectin.   \n",
              "1  Ingredients  Salt,Sugar,Molasses (Refinery Syrup, Molasses,...   \n",
              "2  Ingredients  Salt, Yellow 5 Lake, Tricalcium Phosphate And ...   \n",
              "3  Ingredients  Mechanically hulled seasame seeds.Allergy Info...   \n",
              "4  Ingredients                                              FALSE   \n",
              "\n",
              "          manufacturer                                               name  \\\n",
              "0    Sokol And Company              Simon Fischer Fruit Bttr Prune Lekvar   \n",
              "1  McCormick & Co, Inc  McCORMICK GRILL MATES MOLASSES BACON SEASONING...   \n",
              "2              Reese's                                 Jolly Time Popcorn   \n",
              "3                Ziyad                          Ziyad Tahini Sesame Sauce   \n",
              "4          Fla-Vor-Ice                        Fla-Vor-Ice Plus Giant Pops   \n",
              "\n",
              "        weight  Class  Artificial_colour  \n",
              "0  10.6 pounds      4              False  \n",
              "1   3.5 ounces      1               True  \n",
              "2   1.8 pounds      2               True  \n",
              "3   1.6 pounds      5              False  \n",
              "4    18 pounds      5              False  "
            ],
            "text/html": [
              "\n",
              "  <div id=\"df-bbd8e794-c78c-409f-8e40-d3d89584e5c7\">\n",
              "    <div class=\"colab-df-container\">\n",
              "      <div>\n",
              "<style scoped>\n",
              "    .dataframe tbody tr th:only-of-type {\n",
              "        vertical-align: middle;\n",
              "    }\n",
              "\n",
              "    .dataframe tbody tr th {\n",
              "        vertical-align: top;\n",
              "    }\n",
              "\n",
              "    .dataframe thead th {\n",
              "        text-align: right;\n",
              "    }\n",
              "</style>\n",
              "<table border=\"1\" class=\"dataframe\">\n",
              "  <thead>\n",
              "    <tr style=\"text-align: right;\">\n",
              "      <th></th>\n",
              "      <th>id</th>\n",
              "      <th>brand</th>\n",
              "      <th>categories</th>\n",
              "      <th>features.key</th>\n",
              "      <th>features.value</th>\n",
              "      <th>manufacturer</th>\n",
              "      <th>name</th>\n",
              "      <th>weight</th>\n",
              "      <th>Class</th>\n",
              "      <th>Artificial_colour</th>\n",
              "    </tr>\n",
              "  </thead>\n",
              "  <tbody>\n",
              "    <tr>\n",
              "      <th>0</th>\n",
              "      <td>AVphBRHOilAPnD_x0OrE</td>\n",
              "      <td>Simon Fischer</td>\n",
              "      <td>Grocery &amp; Gourmet Food,Food,Grocery</td>\n",
              "      <td>Ingredients</td>\n",
              "      <td>Dried Prunes,Water,Corn Syrup,Sugar,Pectin.</td>\n",
              "      <td>Sokol And Company</td>\n",
              "      <td>Simon Fischer Fruit Bttr Prune Lekvar</td>\n",
              "      <td>10.6 pounds</td>\n",
              "      <td>4</td>\n",
              "      <td>False</td>\n",
              "    </tr>\n",
              "    <tr>\n",
              "      <th>1</th>\n",
              "      <td>AVpfNFy1LJeJML434ma2</td>\n",
              "      <td>McCormick</td>\n",
              "      <td>Grocery &amp; Gourmet Food,Food,Grocery</td>\n",
              "      <td>Ingredients</td>\n",
              "      <td>Salt,Sugar,Molasses (Refinery Syrup, Molasses,...</td>\n",
              "      <td>McCormick &amp; Co, Inc</td>\n",
              "      <td>McCORMICK GRILL MATES MOLASSES BACON SEASONING...</td>\n",
              "      <td>3.5 ounces</td>\n",
              "      <td>1</td>\n",
              "      <td>True</td>\n",
              "    </tr>\n",
              "    <tr>\n",
              "      <th>2</th>\n",
              "      <td>AVpgT49VLJeJML43MJEz</td>\n",
              "      <td>Jolly Time</td>\n",
              "      <td>Grocery &amp; Gourmet Food,Grocery</td>\n",
              "      <td>Ingredients</td>\n",
              "      <td>Salt, Yellow 5 Lake, Tricalcium Phosphate And ...</td>\n",
              "      <td>Reese's</td>\n",
              "      <td>Jolly Time Popcorn</td>\n",
              "      <td>1.8 pounds</td>\n",
              "      <td>2</td>\n",
              "      <td>True</td>\n",
              "    </tr>\n",
              "    <tr>\n",
              "      <th>3</th>\n",
              "      <td>AVphYgnzLJeJML43aPp2</td>\n",
              "      <td>Ziyad</td>\n",
              "      <td>Grocery &amp; Gourmet Food,grocery</td>\n",
              "      <td>Ingredients</td>\n",
              "      <td>Mechanically hulled seasame seeds.Allergy Info...</td>\n",
              "      <td>Ziyad</td>\n",
              "      <td>Ziyad Tahini Sesame Sauce</td>\n",
              "      <td>1.6 pounds</td>\n",
              "      <td>5</td>\n",
              "      <td>False</td>\n",
              "    </tr>\n",
              "    <tr>\n",
              "      <th>4</th>\n",
              "      <td>AVpiS0bOLJeJML43kRsh</td>\n",
              "      <td>Fla-Vor-Ice</td>\n",
              "      <td>Grocery &amp; Gourmet Food,grocery</td>\n",
              "      <td>Ingredients</td>\n",
              "      <td>FALSE</td>\n",
              "      <td>Fla-Vor-Ice</td>\n",
              "      <td>Fla-Vor-Ice Plus Giant Pops</td>\n",
              "      <td>18 pounds</td>\n",
              "      <td>5</td>\n",
              "      <td>False</td>\n",
              "    </tr>\n",
              "  </tbody>\n",
              "</table>\n",
              "</div>\n",
              "      <button class=\"colab-df-convert\" onclick=\"convertToInteractive('df-bbd8e794-c78c-409f-8e40-d3d89584e5c7')\"\n",
              "              title=\"Convert this dataframe to an interactive table.\"\n",
              "              style=\"display:none;\">\n",
              "        \n",
              "  <svg xmlns=\"http://www.w3.org/2000/svg\" height=\"24px\"viewBox=\"0 0 24 24\"\n",
              "       width=\"24px\">\n",
              "    <path d=\"M0 0h24v24H0V0z\" fill=\"none\"/>\n",
              "    <path d=\"M18.56 5.44l.94 2.06.94-2.06 2.06-.94-2.06-.94-.94-2.06-.94 2.06-2.06.94zm-11 1L8.5 8.5l.94-2.06 2.06-.94-2.06-.94L8.5 2.5l-.94 2.06-2.06.94zm10 10l.94 2.06.94-2.06 2.06-.94-2.06-.94-.94-2.06-.94 2.06-2.06.94z\"/><path d=\"M17.41 7.96l-1.37-1.37c-.4-.4-.92-.59-1.43-.59-.52 0-1.04.2-1.43.59L10.3 9.45l-7.72 7.72c-.78.78-.78 2.05 0 2.83L4 21.41c.39.39.9.59 1.41.59.51 0 1.02-.2 1.41-.59l7.78-7.78 2.81-2.81c.8-.78.8-2.07 0-2.86zM5.41 20L4 18.59l7.72-7.72 1.47 1.35L5.41 20z\"/>\n",
              "  </svg>\n",
              "      </button>\n",
              "      \n",
              "  <style>\n",
              "    .colab-df-container {\n",
              "      display:flex;\n",
              "      flex-wrap:wrap;\n",
              "      gap: 12px;\n",
              "    }\n",
              "\n",
              "    .colab-df-convert {\n",
              "      background-color: #E8F0FE;\n",
              "      border: none;\n",
              "      border-radius: 50%;\n",
              "      cursor: pointer;\n",
              "      display: none;\n",
              "      fill: #1967D2;\n",
              "      height: 32px;\n",
              "      padding: 0 0 0 0;\n",
              "      width: 32px;\n",
              "    }\n",
              "\n",
              "    .colab-df-convert:hover {\n",
              "      background-color: #E2EBFA;\n",
              "      box-shadow: 0px 1px 2px rgba(60, 64, 67, 0.3), 0px 1px 3px 1px rgba(60, 64, 67, 0.15);\n",
              "      fill: #174EA6;\n",
              "    }\n",
              "\n",
              "    [theme=dark] .colab-df-convert {\n",
              "      background-color: #3B4455;\n",
              "      fill: #D2E3FC;\n",
              "    }\n",
              "\n",
              "    [theme=dark] .colab-df-convert:hover {\n",
              "      background-color: #434B5C;\n",
              "      box-shadow: 0px 1px 3px 1px rgba(0, 0, 0, 0.15);\n",
              "      filter: drop-shadow(0px 1px 2px rgba(0, 0, 0, 0.3));\n",
              "      fill: #FFFFFF;\n",
              "    }\n",
              "  </style>\n",
              "\n",
              "      <script>\n",
              "        const buttonEl =\n",
              "          document.querySelector('#df-bbd8e794-c78c-409f-8e40-d3d89584e5c7 button.colab-df-convert');\n",
              "        buttonEl.style.display =\n",
              "          google.colab.kernel.accessAllowed ? 'block' : 'none';\n",
              "\n",
              "        async function convertToInteractive(key) {\n",
              "          const element = document.querySelector('#df-bbd8e794-c78c-409f-8e40-d3d89584e5c7');\n",
              "          const dataTable =\n",
              "            await google.colab.kernel.invokeFunction('convertToInteractive',\n",
              "                                                     [key], {});\n",
              "          if (!dataTable) return;\n",
              "\n",
              "          const docLinkHtml = 'Like what you see? Visit the ' +\n",
              "            '<a target=\"_blank\" href=https://colab.research.google.com/notebooks/data_table.ipynb>data table notebook</a>'\n",
              "            + ' to learn more about interactive tables.';\n",
              "          element.innerHTML = '';\n",
              "          dataTable['output_type'] = 'display_data';\n",
              "          await google.colab.output.renderOutput(dataTable, element);\n",
              "          const docLink = document.createElement('div');\n",
              "          docLink.innerHTML = docLinkHtml;\n",
              "          element.appendChild(docLink);\n",
              "        }\n",
              "      </script>\n",
              "    </div>\n",
              "  </div>\n",
              "  "
            ]
          },
          "metadata": {},
          "execution_count": 10
        }
      ]
    },
    {
      "cell_type": "code",
      "source": [
        "n_n=[]\n",
        "n_nkeys=[\"nitrite\",\"nitrate\"]\n",
        "for item in food_data[\"features.value\"]:\n",
        "  if item and type(item)==str:\n",
        "    n_n.append(any([(key in item.lower()) for key in n_nkeys ]))\n",
        "  else:\n",
        "    n_n.append(False)"
      ],
      "metadata": {
        "id": "ch2WG-jeggop"
      },
      "execution_count": 11,
      "outputs": []
    },
    {
      "cell_type": "code",
      "source": [
        "print(sum(n_n))"
      ],
      "metadata": {
        "id": "JF5hrWANjNhm",
        "colab": {
          "base_uri": "https://localhost:8080/"
        },
        "outputId": "68ec8d23-b141-45d3-8e4f-2964f21398e8"
      },
      "execution_count": 12,
      "outputs": [
        {
          "output_type": "stream",
          "name": "stdout",
          "text": [
            "1428\n"
          ]
        }
      ]
    },
    {
      "cell_type": "code",
      "source": [
        "food_data[\"Nitrites_Nitrates\"]=n_n"
      ],
      "metadata": {
        "id": "rR7_cLr5jlC8"
      },
      "execution_count": 13,
      "outputs": []
    },
    {
      "cell_type": "code",
      "source": [
        "sweet=[]\n",
        "sweetkeys=['aspartame',\n",
        "    'sucralose',\n",
        "    'acesulfame K','acesulfame'\n",
        "    'saccharin',\n",
        "    'xylitol','sweetener','neotame']\n",
        "\n",
        "for item in food_data[\"features.value\"]:\n",
        "  if item and type(item)==str:\n",
        "    sweet.append(any([(key in item.lower()) for key in sweetkeys]))\n",
        "  else:\n",
        "    sweet.append(False)\n",
        "\n"
      ],
      "metadata": {
        "id": "VsZadPfGjtDw"
      },
      "execution_count": 14,
      "outputs": []
    },
    {
      "cell_type": "code",
      "source": [
        "print(sum(sweet))"
      ],
      "metadata": {
        "id": "p8PI0__ekegv",
        "colab": {
          "base_uri": "https://localhost:8080/"
        },
        "outputId": "5118f862-d1d1-4fd2-86c5-98d6696eef8d"
      },
      "execution_count": 15,
      "outputs": [
        {
          "output_type": "stream",
          "name": "stdout",
          "text": [
            "598\n"
          ]
        }
      ]
    },
    {
      "cell_type": "code",
      "source": [
        "food_data[\"Artificial_Sweetener\"]=sweet"
      ],
      "metadata": {
        "id": "W8LMVbPyp0LS"
      },
      "execution_count": 16,
      "outputs": []
    },
    {
      "cell_type": "code",
      "source": [
        "t_fat=[]\n",
        "fat_keys=[\"hydrogenated\",\"hydrogenated oil\",\"hydrogenated soy\",\"trans fat\"]\n",
        "\n",
        "for item in food_data[\"features.value\"]:\n",
        "  if item and type(item)==str:\n",
        "    t_fat.append(any([(key in item.lower()) for key in fat_keys]))\n",
        "  else:\n",
        "    t_fat.append(False)"
      ],
      "metadata": {
        "id": "TAnOHspjk8Mf"
      },
      "execution_count": 17,
      "outputs": []
    },
    {
      "cell_type": "code",
      "source": [
        "print(sum(t_fat))"
      ],
      "metadata": {
        "colab": {
          "base_uri": "https://localhost:8080/"
        },
        "id": "OPraaZZQloyT",
        "outputId": "e94aa0c9-f096-4351-cd7b-a0e42c06f471"
      },
      "execution_count": 18,
      "outputs": [
        {
          "output_type": "stream",
          "name": "stdout",
          "text": [
            "954\n"
          ]
        }
      ]
    },
    {
      "cell_type": "code",
      "source": [
        "food_data[\"Trans_Fat\"]=t_fat"
      ],
      "metadata": {
        "id": "TP3JzqPHl_0j"
      },
      "execution_count": 19,
      "outputs": []
    },
    {
      "cell_type": "code",
      "source": [
        "HF=[]\n",
        "HFkeys=['high fructose corn syrup','corn syrup','hf']\n",
        "\n",
        "for item in food_data[\"features.value\"]:\n",
        "  if item and type(item)==str:\n",
        "    HF.append(any([(key in item.lower()) for key in HFkeys]))\n",
        "  else:\n",
        "    HF.append(False)"
      ],
      "metadata": {
        "id": "z9HpDBHSmKNo"
      },
      "execution_count": 20,
      "outputs": []
    },
    {
      "cell_type": "code",
      "source": [
        "print(sum(HF))"
      ],
      "metadata": {
        "colab": {
          "base_uri": "https://localhost:8080/"
        },
        "id": "fnMTs84km6fN",
        "outputId": "1b96656f-0894-42e6-f358-2e8d7fed9a38"
      },
      "execution_count": 21,
      "outputs": [
        {
          "output_type": "stream",
          "name": "stdout",
          "text": [
            "1829\n"
          ]
        }
      ]
    },
    {
      "cell_type": "code",
      "source": [
        "food_data[\"HighFructoseCornSyrup\"]=HF"
      ],
      "metadata": {
        "id": "OETOHWAGn7Eb"
      },
      "execution_count": 22,
      "outputs": []
    },
    {
      "cell_type": "code",
      "source": [
        "f_f=[]\n",
        "f_fkeys=['fragrance','flavor','flavour','scent']\n",
        "\n",
        "for item in food_data[\"features.value\"]:\n",
        "  if item and type(item)==str:\n",
        "    f_f.append(any([(key in item.lower()) for key in f_fkeys]))\n",
        "  else:\n",
        "    f_f.append(False)\n",
        "\n"
      ],
      "metadata": {
        "id": "XpdFVERInDX9"
      },
      "execution_count": 23,
      "outputs": []
    },
    {
      "cell_type": "code",
      "source": [
        "print(sum(f_f))"
      ],
      "metadata": {
        "colab": {
          "base_uri": "https://localhost:8080/"
        },
        "id": "xI9unKfOnopB",
        "outputId": "12f650cf-4ce2-402c-ba86-b67a7990b8e1"
      },
      "execution_count": 24,
      "outputs": [
        {
          "output_type": "stream",
          "name": "stdout",
          "text": [
            "4762\n"
          ]
        }
      ]
    },
    {
      "cell_type": "code",
      "source": [
        "food_data[\"Fragrance_Flavor\"]=f_f"
      ],
      "metadata": {
        "id": "iZOqFaRDn3eI"
      },
      "execution_count": 25,
      "outputs": []
    },
    {
      "cell_type": "code",
      "source": [
        "x_data=food_data[['Artificial_colour','Nitrites_Nitrates','HighFructoseCornSyrup','Trans_Fat','Fragrance_Flavor','Artificial_Sweetener']]\n",
        "y_data=food_data['Class']"
      ],
      "metadata": {
        "id": "sDxx2Lfg0E7G"
      },
      "execution_count": 26,
      "outputs": []
    },
    {
      "cell_type": "code",
      "source": [
        "x_data.head()\n"
      ],
      "metadata": {
        "colab": {
          "base_uri": "https://localhost:8080/",
          "height": 206
        },
        "id": "Pc8rYaFv04xs",
        "outputId": "54e060f9-4be2-45c0-c482-3ea214f06be0"
      },
      "execution_count": 27,
      "outputs": [
        {
          "output_type": "execute_result",
          "data": {
            "text/plain": [
              "   Artificial_colour  Nitrites_Nitrates  HighFructoseCornSyrup  Trans_Fat  \\\n",
              "0              False              False                   True      False   \n",
              "1               True               True                  False      False   \n",
              "2               True              False                  False      False   \n",
              "3              False              False                  False      False   \n",
              "4              False              False                  False      False   \n",
              "\n",
              "   Fragrance_Flavor  Artificial_Sweetener  \n",
              "0             False                 False  \n",
              "1              True                 False  \n",
              "2              True                 False  \n",
              "3             False                 False  \n",
              "4             False                 False  "
            ],
            "text/html": [
              "\n",
              "  <div id=\"df-82d8406d-911d-45f6-b99f-6208123a7172\">\n",
              "    <div class=\"colab-df-container\">\n",
              "      <div>\n",
              "<style scoped>\n",
              "    .dataframe tbody tr th:only-of-type {\n",
              "        vertical-align: middle;\n",
              "    }\n",
              "\n",
              "    .dataframe tbody tr th {\n",
              "        vertical-align: top;\n",
              "    }\n",
              "\n",
              "    .dataframe thead th {\n",
              "        text-align: right;\n",
              "    }\n",
              "</style>\n",
              "<table border=\"1\" class=\"dataframe\">\n",
              "  <thead>\n",
              "    <tr style=\"text-align: right;\">\n",
              "      <th></th>\n",
              "      <th>Artificial_colour</th>\n",
              "      <th>Nitrites_Nitrates</th>\n",
              "      <th>HighFructoseCornSyrup</th>\n",
              "      <th>Trans_Fat</th>\n",
              "      <th>Fragrance_Flavor</th>\n",
              "      <th>Artificial_Sweetener</th>\n",
              "    </tr>\n",
              "  </thead>\n",
              "  <tbody>\n",
              "    <tr>\n",
              "      <th>0</th>\n",
              "      <td>False</td>\n",
              "      <td>False</td>\n",
              "      <td>True</td>\n",
              "      <td>False</td>\n",
              "      <td>False</td>\n",
              "      <td>False</td>\n",
              "    </tr>\n",
              "    <tr>\n",
              "      <th>1</th>\n",
              "      <td>True</td>\n",
              "      <td>True</td>\n",
              "      <td>False</td>\n",
              "      <td>False</td>\n",
              "      <td>True</td>\n",
              "      <td>False</td>\n",
              "    </tr>\n",
              "    <tr>\n",
              "      <th>2</th>\n",
              "      <td>True</td>\n",
              "      <td>False</td>\n",
              "      <td>False</td>\n",
              "      <td>False</td>\n",
              "      <td>True</td>\n",
              "      <td>False</td>\n",
              "    </tr>\n",
              "    <tr>\n",
              "      <th>3</th>\n",
              "      <td>False</td>\n",
              "      <td>False</td>\n",
              "      <td>False</td>\n",
              "      <td>False</td>\n",
              "      <td>False</td>\n",
              "      <td>False</td>\n",
              "    </tr>\n",
              "    <tr>\n",
              "      <th>4</th>\n",
              "      <td>False</td>\n",
              "      <td>False</td>\n",
              "      <td>False</td>\n",
              "      <td>False</td>\n",
              "      <td>False</td>\n",
              "      <td>False</td>\n",
              "    </tr>\n",
              "  </tbody>\n",
              "</table>\n",
              "</div>\n",
              "      <button class=\"colab-df-convert\" onclick=\"convertToInteractive('df-82d8406d-911d-45f6-b99f-6208123a7172')\"\n",
              "              title=\"Convert this dataframe to an interactive table.\"\n",
              "              style=\"display:none;\">\n",
              "        \n",
              "  <svg xmlns=\"http://www.w3.org/2000/svg\" height=\"24px\"viewBox=\"0 0 24 24\"\n",
              "       width=\"24px\">\n",
              "    <path d=\"M0 0h24v24H0V0z\" fill=\"none\"/>\n",
              "    <path d=\"M18.56 5.44l.94 2.06.94-2.06 2.06-.94-2.06-.94-.94-2.06-.94 2.06-2.06.94zm-11 1L8.5 8.5l.94-2.06 2.06-.94-2.06-.94L8.5 2.5l-.94 2.06-2.06.94zm10 10l.94 2.06.94-2.06 2.06-.94-2.06-.94-.94-2.06-.94 2.06-2.06.94z\"/><path d=\"M17.41 7.96l-1.37-1.37c-.4-.4-.92-.59-1.43-.59-.52 0-1.04.2-1.43.59L10.3 9.45l-7.72 7.72c-.78.78-.78 2.05 0 2.83L4 21.41c.39.39.9.59 1.41.59.51 0 1.02-.2 1.41-.59l7.78-7.78 2.81-2.81c.8-.78.8-2.07 0-2.86zM5.41 20L4 18.59l7.72-7.72 1.47 1.35L5.41 20z\"/>\n",
              "  </svg>\n",
              "      </button>\n",
              "      \n",
              "  <style>\n",
              "    .colab-df-container {\n",
              "      display:flex;\n",
              "      flex-wrap:wrap;\n",
              "      gap: 12px;\n",
              "    }\n",
              "\n",
              "    .colab-df-convert {\n",
              "      background-color: #E8F0FE;\n",
              "      border: none;\n",
              "      border-radius: 50%;\n",
              "      cursor: pointer;\n",
              "      display: none;\n",
              "      fill: #1967D2;\n",
              "      height: 32px;\n",
              "      padding: 0 0 0 0;\n",
              "      width: 32px;\n",
              "    }\n",
              "\n",
              "    .colab-df-convert:hover {\n",
              "      background-color: #E2EBFA;\n",
              "      box-shadow: 0px 1px 2px rgba(60, 64, 67, 0.3), 0px 1px 3px 1px rgba(60, 64, 67, 0.15);\n",
              "      fill: #174EA6;\n",
              "    }\n",
              "\n",
              "    [theme=dark] .colab-df-convert {\n",
              "      background-color: #3B4455;\n",
              "      fill: #D2E3FC;\n",
              "    }\n",
              "\n",
              "    [theme=dark] .colab-df-convert:hover {\n",
              "      background-color: #434B5C;\n",
              "      box-shadow: 0px 1px 3px 1px rgba(0, 0, 0, 0.15);\n",
              "      filter: drop-shadow(0px 1px 2px rgba(0, 0, 0, 0.3));\n",
              "      fill: #FFFFFF;\n",
              "    }\n",
              "  </style>\n",
              "\n",
              "      <script>\n",
              "        const buttonEl =\n",
              "          document.querySelector('#df-82d8406d-911d-45f6-b99f-6208123a7172 button.colab-df-convert');\n",
              "        buttonEl.style.display =\n",
              "          google.colab.kernel.accessAllowed ? 'block' : 'none';\n",
              "\n",
              "        async function convertToInteractive(key) {\n",
              "          const element = document.querySelector('#df-82d8406d-911d-45f6-b99f-6208123a7172');\n",
              "          const dataTable =\n",
              "            await google.colab.kernel.invokeFunction('convertToInteractive',\n",
              "                                                     [key], {});\n",
              "          if (!dataTable) return;\n",
              "\n",
              "          const docLinkHtml = 'Like what you see? Visit the ' +\n",
              "            '<a target=\"_blank\" href=https://colab.research.google.com/notebooks/data_table.ipynb>data table notebook</a>'\n",
              "            + ' to learn more about interactive tables.';\n",
              "          element.innerHTML = '';\n",
              "          dataTable['output_type'] = 'display_data';\n",
              "          await google.colab.output.renderOutput(dataTable, element);\n",
              "          const docLink = document.createElement('div');\n",
              "          docLink.innerHTML = docLinkHtml;\n",
              "          element.appendChild(docLink);\n",
              "        }\n",
              "      </script>\n",
              "    </div>\n",
              "  </div>\n",
              "  "
            ]
          },
          "metadata": {},
          "execution_count": 27
        }
      ]
    },
    {
      "cell_type": "code",
      "source": [
        "from sklearn.model_selection import train_test_split"
      ],
      "metadata": {
        "id": "LX4IUr1A1qsU"
      },
      "execution_count": 28,
      "outputs": []
    },
    {
      "cell_type": "code",
      "source": [
        "x_train, x_test, y_train, y_test = train_test_split(x_data, y_data ,test_size = 0.25, shuffle=False)"
      ],
      "metadata": {
        "id": "XCRL3ZYq2Dp4"
      },
      "execution_count": 29,
      "outputs": []
    },
    {
      "cell_type": "code",
      "source": [
        "from sklearn.metrics._plot.confusion_matrix import confusion_matrix\n",
        "from sklearn.linear_model import LogisticRegression\n",
        "from sklearn.naive_bayes import GaussianNB\n",
        "from sklearn.neighbors import KNeighborsClassifier\n",
        "from sklearn.svm import SVC\n",
        "from sklearn.ensemble import RandomForestClassifier\n",
        "from sklearn.tree import DecisionTreeClassifier\n",
        "from sklearn import metrics\n",
        "\n",
        "\n",
        "pipeline=[LogisticRegression(solver=\"newton-cg\"),GaussianNB(),KNeighborsClassifier(),SVC(),RandomForestClassifier(),DecisionTreeClassifier()]\n",
        "accuracy=[]\n",
        "confusionmatrix=[]\n",
        "for model in pipeline:\n",
        "  model.fit(x_train,y_train)\n",
        "  y_pred=model.predict(x_test)\n",
        "  accuracy.append(metrics.accuracy_score(y_test,y_pred))\n",
        "  confusionmatrix.append(confusion_matrix(y_test,y_pred))\n"
      ],
      "metadata": {
        "id": "rR03nkdm2I1n"
      },
      "execution_count": 30,
      "outputs": []
    },
    {
      "cell_type": "code",
      "source": [
        "import seaborn as sns\n",
        "import matplotlib.pyplot as plt\n",
        "\n",
        "xs=[\"LR\", \"GNB\", \"KNN\", \"SVC\", \"RFC\", \"DTC\"]\n",
        "ys=accuracy\n",
        "p=zip(xs,ys)\n",
        "print({xs[i]:ys[i] for i in range(6)})\n",
        "\n",
        "sns.barplot(x=ys,y=xs)\n",
        "plt.show()"
      ],
      "metadata": {
        "colab": {
          "base_uri": "https://localhost:8080/",
          "height": 283
        },
        "id": "DwLSoD6H9oB8",
        "outputId": "65519052-d702-404b-f455-ec528ca1d4e3"
      },
      "execution_count": 39,
      "outputs": [
        {
          "output_type": "stream",
          "name": "stdout",
          "text": [
            "{'LR': 0.888, 'GNB': 0.8516, 'KNN': 0.9084, 'SVC': 0.9084, 'RFC': 0.9084, 'DTC': 0.9084}\n"
          ]
        },
        {
          "output_type": "display_data",
          "data": {
            "text/plain": [
              "<Figure size 432x288 with 1 Axes>"
            ],
            "image/png": "[encoded data removed]"
          },
          "metadata": {
            "needs_background": "light"
          }
        }
      ]
    },
    {
      "cell_type": "code",
      "source": [
        "fig=plt.figure(figsize=(18,10))\n",
        "for i in range(6):\n",
        "  cm=confusionmatrix[i]\n",
        "  label=xs[i]\n",
        "  sub=fig.add_subplot(2,3,i+1).set_title(label)\n",
        "  cm_plot=sns.heatmap(cm,annot=True, fmt=\"d\",cmap=\"Blues_r\")\n",
        "  cm_plot.set_xlabel(\"Predicted Values\")\n",
        "  cm_plot.set_ylabel(\"Actual Values\")"
      ],
      "metadata": {
        "colab": {
          "base_uri": "https://localhost:8080/",
          "height": 621
        },
        "id": "C_N93dRyAGIa",
        "outputId": "8cd63cee-7739-4d1e-ee10-ba6788de80d8"
      },
      "execution_count": 32,
      "outputs": [
        {
          "output_type": "display_data",
          "data": {
            "text/plain": [
              "<Figure size 1296x720 with 12 Axes>"
            ],
            "image/png": "[encoded data removed]"
          },
          "metadata": {
            "needs_background": "light"
          }
        }
      ]
    },
    {
      "cell_type": "code",
      "source": [
        "import pickle\n",
        "with open('model1.pkl', 'wb') as handle:\n",
        "    pickle.dump(model, handle, pickle.HIGHEST_PROTOCOL)"
      ],
      "metadata": {
        "id": "9tvd-R62vm6f"
      },
      "execution_count": 33,
      "outputs": []
    },
    {
      "cell_type": "code",
      "source": [
        "ingredients=\"Pure amla juice, sodium benzoate\"\n",
        "\n",
        "A_C=any([key in ingredients for key in [\"color\",\"colour\",\"yellow\",\"blue\",\"green\",\"red\"]])\n",
        "nn=any([key in ingredients for key in [\"nitrite\",\"nitrate\"]])\n",
        "sw=any([key in ingredients for key in ['aspartame',\n",
        "    'sucralose',\n",
        "    'acesulfame K','acesulfame'\n",
        "    'saccharin',\n",
        "    'xylitol','sweetener','neotame']])\n",
        "tf=any([key in ingredients for key in [\"hydrogenated\",\"hydrogenated oil\",\"hydrogenated soy\",\"trans fat\"]])\n",
        "hf=any([key in ingredients for key in ['high fructose corn syrup','corn syrup','hf']])\n",
        "ff=any([key in ingredients for key in ['fragrance','flavor','flavour','scent']])\n",
        "\n",
        "map={k:v for k,v in zip([\"Artificial_colour\",\"Nitrites_Nitrates\",\"HighFructoseCornSyrup\",\"Trans_Fat\",\"Fragrance_Flavor\",\"Artificial_Sweetener\"],[A_C,nn,hf,tf,ff,sw])}\n",
        "\n",
        "X=pd.DataFrame(map,index=range(5))\n",
        "\n",
        "res=model.predict(X)\n",
        "\n",
        "print(res[0])"
      ],
      "metadata": {
        "colab": {
          "base_uri": "https://localhost:8080/"
        },
        "id": "S8MdQzuFXUYU",
        "outputId": "ab91c4e4-2f47-4d31-c92e-5fd517266bca"
      },
      "execution_count": 34,
      "outputs": [
        {
          "output_type": "stream",
          "name": "stdout",
          "text": [
            "5\n"
          ]
        }
      ]
    }
  ]
}